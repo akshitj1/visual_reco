{
 "cells": [
  {
   "cell_type": "code",
   "execution_count": 3,
   "metadata": {},
   "outputs": [],
   "source": [
    "# ! mkdir /mnt/data/akshit.jain/visual_reco\n",
    "# ! pip install openrec\n",
    "# ! pip install unrar\n",
    "DATA_DIR='/mnt/data/akshit.jain/visual_reco'\n",
    "os.chdir(DATA_DIR)"
   ]
  },
  {
   "cell_type": "code",
   "execution_count": 10,
   "metadata": {},
   "outputs": [
    {
     "data": {
      "text/plain": [
       "0"
      ]
     },
     "execution_count": 10,
     "metadata": {},
     "output_type": "execute_result"
    }
   ],
   "source": [
    "import os\n",
    "try:\n",
    "    from urllib.request import urlretrieve\n",
    "except ImportError:\n",
    "    from urllib import urlretrieve\n",
    "\n",
    "# urlretrieve('http://www.wanghao.in/data/ctrsr_datasets.rar', 'ctrsr_datasets.rar')\n",
    "os.system('unzip ctrsr_datasets.zip')"
   ]
  },
  {
   "cell_type": "code",
   "execution_count": 12,
   "metadata": {},
   "outputs": [],
   "source": [
    "import numpy as np\n",
    "import random\n",
    "\n",
    "users_count = 0\n",
    "interactions_count = 0\n",
    "with open('ctrsr_datasets/citeulike-a/users.dat', 'r') as fin:\n",
    "    for line in fin:\n",
    "        interactions_count += int(line.split()[0])\n",
    "        users_count += 1\n",
    "\n",
    "# radomly hold out an item per user for validation and testing respectively.\n",
    "val_structured_arr = np.zeros(users_count, dtype=[('user_id', np.int32), ('item_id', np.int32)]) \n",
    "test_structured_arr = np.zeros(users_count, dtype=[('user_id', np.int32), ('item_id', np.int32)])\n",
    "train_structured_arr = np.zeros(interactions_count-11102, dtype=[('user_id', np.int32), ('item_id', np.int32)])\n",
    "\n",
    "interaction_ind = 0\n",
    "next_user_id = 0\n",
    "next_item_id = 0\n",
    "map_to_item_id = dict()  # Map item id from 0 to len(items)-1\n",
    "\n",
    "with open('ctrsr_datasets/citeulike-a/users.dat', 'r') as fin:\n",
    "    for line in fin:\n",
    "        item_list = line.split()[1:]\n",
    "        random.shuffle(item_list)\n",
    "        for ind, item in enumerate(item_list):\n",
    "            if item not in map_to_item_id:\n",
    "                map_to_item_id[item] = next_item_id\n",
    "                next_item_id += 1\n",
    "            if ind == 0:\n",
    "                val_structured_arr[next_user_id] = (next_user_id, map_to_item_id[item])\n",
    "            elif ind == 1:\n",
    "                test_structured_arr[next_user_id] = (next_user_id, map_to_item_id[item])\n",
    "            else:\n",
    "                train_structured_arr[interaction_ind] = (next_user_id, map_to_item_id[item])\n",
    "                interaction_ind += 1\n",
    "        next_user_id += 1"
   ]
  },
  {
   "cell_type": "code",
   "execution_count": 19,
   "metadata": {},
   "outputs": [],
   "source": [
    "from openrec.utils import ImplicitDataset\n",
    "\n",
    "train_dataset = ImplicitDataset(raw_data=train_structured_arr, \n",
    "                        max_user=users_count, \n",
    "                        max_item=len(map_to_item_id), name='Train')\n",
    "val_dataset = ImplicitDataset(raw_data=val_structured_arr, \n",
    "                      max_user=users_count,\n",
    "                      max_item=len(map_to_item_id), name='Val')\n",
    "test_dataset = ImplicitDataset(raw_data=test_structured_arr, \n",
    "                       max_user=users_count,\n",
    "                       max_item=len(map_to_item_id), name='Test')"
   ]
  },
  {
   "cell_type": "code",
   "execution_count": 20,
   "metadata": {},
   "outputs": [
    {
     "name": "stdout",
     "output_type": "stream",
     "text": [
      "WARNING:tensorflow:From /mnt/data/virtualenv/tensorflow/lib/python3.5/site-packages/openrec/modules/interactions/pairwise_log.py:83: calling reduce_sum (from tensorflow.python.ops.math_ops) with keep_dims is deprecated and will be removed in a future version.\n",
      "Instructions for updating:\n",
      "keep_dims is deprecated, use keepdims instead\n"
     ]
    }
   ],
   "source": [
    "from openrec.recommenders import BPR\n",
    "\n",
    "bpr_model = BPR(batch_size=1000, \n",
    "                max_user=train_dataset.max_user(), \n",
    "                max_item=train_dataset.max_item(), \n",
    "                dim_embed=20, \n",
    "                opt='Adam')"
   ]
  },
  {
   "cell_type": "code",
   "execution_count": 21,
   "metadata": {},
   "outputs": [],
   "source": [
    "from openrec.utils.samplers import PairwiseSampler\n",
    "\n",
    "sampler = PairwiseSampler(batch_size=1000, dataset=train_dataset, num_process=1)"
   ]
  },
  {
   "cell_type": "code",
   "execution_count": 22,
   "metadata": {},
   "outputs": [],
   "source": [
    "from openrec.utils.evaluators import AUC\n",
    "\n",
    "auc_evaluator = AUC()"
   ]
  },
  {
   "cell_type": "code",
   "execution_count": 23,
   "metadata": {},
   "outputs": [],
   "source": [
    "from openrec import ImplicitModelTrainer\n",
    "\n",
    "model_trainer = ImplicitModelTrainer(batch_size=1000, \n",
    "                             test_batch_size=100, \n",
    "                            train_dataset=train_dataset, \n",
    "                             model=bpr_model, \n",
    "                             sampler=sampler)"
   ]
  },
  {
   "cell_type": "code",
   "execution_count": null,
   "metadata": {},
   "outputs": [
    {
     "name": "stdout",
     "output_type": "stream",
     "text": [
      "\u001b[34m== Start training with FULL evaluation ==\u001b[0m\n",
      "\u001b[34m[Itr 100] Finished\u001b[0m\n",
      "\u001b[34m[Itr 200] Finished\u001b[0m\n",
      "\u001b[34m[Itr 300] Finished\u001b[0m\n",
      "\u001b[34m[Itr 400] Finished\u001b[0m\n",
      "\u001b[34m[Itr 500] Finished\u001b[0m\n",
      "\u001b[34m[Itr 600] Finished\u001b[0m\n",
      "\u001b[34m[Itr 700] Finished\u001b[0m\n",
      "\u001b[34m[Itr 800] Finished\u001b[0m\n",
      "\u001b[34m[Itr 900] Finished\u001b[0m\n",
      "\u001b[34m[Itr 1000] Finished\u001b[0m\n",
      "\u001b[31m[Itr 1000]\u001b[0m loss: 573.331185\n",
      "\u001b[32m..(dataset: Val) evaluation\u001b[0m\n"
     ]
    },
    {
     "name": "stderr",
     "output_type": "stream",
     "text": [
      "100%|██████████| 56/56 [00:55<00:00,  1.01it/s]"
     ]
    },
    {
     "name": "stdout",
     "output_type": "stream",
     "text": [
      "\u001b[32m..(dataset: Val)\u001b[0m AUC 0.862679685933231\n",
      "\u001b[32m..(dataset: Test) evaluation\u001b[0m\n"
     ]
    },
    {
     "name": "stderr",
     "output_type": "stream",
     "text": [
      "\n",
      "100%|██████████| 56/56 [00:56<00:00,  1.01s/it]\n"
     ]
    },
    {
     "name": "stdout",
     "output_type": "stream",
     "text": [
      "\u001b[32m..(dataset: Test)\u001b[0m AUC 0.8624182275067398\n",
      "\u001b[34m[Itr 1100] Finished\u001b[0m\n",
      "\u001b[34m[Itr 1200] Finished\u001b[0m\n",
      "\u001b[34m[Itr 1300] Finished\u001b[0m\n",
      "\u001b[34m[Itr 1400] Finished\u001b[0m\n",
      "\u001b[34m[Itr 1500] Finished\u001b[0m\n",
      "\u001b[34m[Itr 1600] Finished\u001b[0m\n",
      "\u001b[34m[Itr 1700] Finished\u001b[0m\n",
      "\u001b[34m[Itr 1800] Finished\u001b[0m\n",
      "\u001b[34m[Itr 1900] Finished\u001b[0m\n",
      "\u001b[34m[Itr 2000] Finished\u001b[0m\n",
      "\u001b[31m[Itr 2000]\u001b[0m loss: 283.803202\n",
      "\u001b[32m..(dataset: Val) evaluation\u001b[0m\n"
     ]
    },
    {
     "name": "stderr",
     "output_type": "stream",
     "text": [
      "100%|██████████| 56/56 [00:52<00:00,  1.06it/s]"
     ]
    },
    {
     "name": "stdout",
     "output_type": "stream",
     "text": [
      "\u001b[32m..(dataset: Val)\u001b[0m AUC 0.9044478929848605\n",
      "\u001b[32m..(dataset: Test) evaluation\u001b[0m\n"
     ]
    },
    {
     "name": "stderr",
     "output_type": "stream",
     "text": [
      "\n",
      "100%|██████████| 56/56 [00:52<00:00,  1.06it/s]\n"
     ]
    },
    {
     "name": "stdout",
     "output_type": "stream",
     "text": [
      "\u001b[32m..(dataset: Test)\u001b[0m AUC 0.906362205515083\n",
      "\u001b[34m[Itr 2100] Finished\u001b[0m\n",
      "\u001b[34m[Itr 2200] Finished\u001b[0m\n",
      "\u001b[34m[Itr 2300] Finished\u001b[0m\n",
      "\u001b[34m[Itr 2400] Finished\u001b[0m\n",
      "\u001b[34m[Itr 2500] Finished\u001b[0m\n",
      "\u001b[34m[Itr 2600] Finished\u001b[0m\n",
      "\u001b[34m[Itr 2700] Finished\u001b[0m\n",
      "\u001b[34m[Itr 2800] Finished\u001b[0m\n",
      "\u001b[34m[Itr 2900] Finished\u001b[0m\n",
      "\u001b[34m[Itr 3000] Finished\u001b[0m\n",
      "\u001b[31m[Itr 3000]\u001b[0m loss: 176.567913\n",
      "\u001b[32m..(dataset: Val) evaluation\u001b[0m\n"
     ]
    },
    {
     "name": "stderr",
     "output_type": "stream",
     "text": [
      "100%|██████████| 56/56 [00:52<00:00,  1.08it/s]"
     ]
    },
    {
     "name": "stdout",
     "output_type": "stream",
     "text": [
      "\u001b[32m..(dataset: Val)\u001b[0m AUC 0.9217888596849816\n",
      "\u001b[32m..(dataset: Test) evaluation\u001b[0m\n"
     ]
    },
    {
     "name": "stderr",
     "output_type": "stream",
     "text": [
      "\n",
      "100%|██████████| 56/56 [00:52<00:00,  1.07it/s]\n"
     ]
    },
    {
     "name": "stdout",
     "output_type": "stream",
     "text": [
      "\u001b[32m..(dataset: Test)\u001b[0m AUC 0.9236821700402867\n",
      "\u001b[34m[Itr 3100] Finished\u001b[0m\n",
      "\u001b[34m[Itr 3200] Finished\u001b[0m\n",
      "\u001b[34m[Itr 3300] Finished\u001b[0m\n",
      "\u001b[34m[Itr 3400] Finished\u001b[0m\n",
      "\u001b[34m[Itr 3500] Finished\u001b[0m\n",
      "\u001b[34m[Itr 3600] Finished\u001b[0m\n",
      "\u001b[34m[Itr 3700] Finished\u001b[0m\n",
      "\u001b[34m[Itr 3800] Finished\u001b[0m\n",
      "\u001b[34m[Itr 3900] Finished\u001b[0m\n",
      "\u001b[34m[Itr 4000] Finished\u001b[0m\n",
      "\u001b[31m[Itr 4000]\u001b[0m loss: 129.307982\n",
      "\u001b[32m..(dataset: Val) evaluation\u001b[0m\n"
     ]
    },
    {
     "name": "stderr",
     "output_type": "stream",
     "text": [
      "100%|██████████| 56/56 [00:51<00:00,  1.08it/s]"
     ]
    },
    {
     "name": "stdout",
     "output_type": "stream",
     "text": [
      "\u001b[32m..(dataset: Val)\u001b[0m AUC 0.930916766333406\n",
      "\u001b[32m..(dataset: Test) evaluation\u001b[0m\n"
     ]
    },
    {
     "name": "stderr",
     "output_type": "stream",
     "text": [
      "\n",
      "100%|██████████| 56/56 [00:51<00:00,  1.08it/s]\n"
     ]
    },
    {
     "name": "stdout",
     "output_type": "stream",
     "text": [
      "\u001b[32m..(dataset: Test)\u001b[0m AUC 0.9332700260119084\n",
      "\u001b[34m[Itr 4100] Finished\u001b[0m\n",
      "\u001b[34m[Itr 4200] Finished\u001b[0m\n",
      "\u001b[34m[Itr 4300] Finished\u001b[0m\n",
      "\u001b[34m[Itr 4400] Finished\u001b[0m\n",
      "\u001b[34m[Itr 4500] Finished\u001b[0m\n",
      "\u001b[34m[Itr 4600] Finished\u001b[0m\n",
      "\u001b[34m[Itr 4700] Finished\u001b[0m\n",
      "\u001b[34m[Itr 4800] Finished\u001b[0m\n",
      "\u001b[34m[Itr 4900] Finished\u001b[0m\n",
      "\u001b[34m[Itr 5000] Finished\u001b[0m\n",
      "\u001b[31m[Itr 5000]\u001b[0m loss: 103.001014\n",
      "\u001b[32m..(dataset: Val) evaluation\u001b[0m\n"
     ]
    },
    {
     "name": "stderr",
     "output_type": "stream",
     "text": [
      "100%|██████████| 56/56 [00:51<00:00,  1.09it/s]"
     ]
    },
    {
     "name": "stdout",
     "output_type": "stream",
     "text": [
      "\u001b[32m..(dataset: Val)\u001b[0m AUC 0.9369000345150563\n",
      "\u001b[32m..(dataset: Test) evaluation\u001b[0m\n"
     ]
    },
    {
     "name": "stderr",
     "output_type": "stream",
     "text": [
      "\n",
      "100%|██████████| 56/56 [00:51<00:00,  1.08it/s]\n"
     ]
    },
    {
     "name": "stdout",
     "output_type": "stream",
     "text": [
      "\u001b[32m..(dataset: Test)\u001b[0m AUC 0.9390752409466884\n",
      "\u001b[34m[Itr 5100] Finished\u001b[0m\n",
      "\u001b[34m[Itr 5200] Finished\u001b[0m\n",
      "\u001b[34m[Itr 5300] Finished\u001b[0m\n",
      "\u001b[34m[Itr 5400] Finished\u001b[0m\n",
      "\u001b[34m[Itr 5500] Finished\u001b[0m\n",
      "\u001b[34m[Itr 5600] Finished\u001b[0m\n",
      "\u001b[34m[Itr 5700] Finished\u001b[0m\n",
      "\u001b[34m[Itr 5800] Finished\u001b[0m\n",
      "\u001b[34m[Itr 5900] Finished\u001b[0m\n",
      "\u001b[34m[Itr 6000] Finished\u001b[0m\n",
      "\u001b[31m[Itr 6000]\u001b[0m loss: 85.380404\n",
      "\u001b[32m..(dataset: Val) evaluation\u001b[0m\n"
     ]
    },
    {
     "name": "stderr",
     "output_type": "stream",
     "text": [
      "100%|██████████| 56/56 [00:51<00:00,  1.08it/s]"
     ]
    },
    {
     "name": "stdout",
     "output_type": "stream",
     "text": [
      "\u001b[32m..(dataset: Val)\u001b[0m AUC 0.9409595693861815\n",
      "\u001b[32m..(dataset: Test) evaluation\u001b[0m\n"
     ]
    },
    {
     "name": "stderr",
     "output_type": "stream",
     "text": [
      "\n",
      "100%|██████████| 56/56 [00:51<00:00,  1.09it/s]\n"
     ]
    },
    {
     "name": "stdout",
     "output_type": "stream",
     "text": [
      "\u001b[32m..(dataset: Test)\u001b[0m AUC 0.9430898884907924\n",
      "\u001b[34m[Itr 6100] Finished\u001b[0m\n",
      "\u001b[34m[Itr 6200] Finished\u001b[0m\n",
      "\u001b[34m[Itr 6300] Finished\u001b[0m\n",
      "\u001b[34m[Itr 6400] Finished\u001b[0m\n",
      "\u001b[34m[Itr 6500] Finished\u001b[0m\n",
      "\u001b[34m[Itr 6600] Finished\u001b[0m\n",
      "\u001b[34m[Itr 6700] Finished\u001b[0m\n",
      "\u001b[34m[Itr 6800] Finished\u001b[0m\n",
      "\u001b[34m[Itr 6900] Finished\u001b[0m\n",
      "\u001b[34m[Itr 7000] Finished\u001b[0m\n",
      "\u001b[31m[Itr 7000]\u001b[0m loss: 73.584917\n",
      "\u001b[32m..(dataset: Val) evaluation\u001b[0m\n"
     ]
    },
    {
     "name": "stderr",
     "output_type": "stream",
     "text": [
      "100%|██████████| 56/56 [00:50<00:00,  1.10it/s]"
     ]
    },
    {
     "name": "stdout",
     "output_type": "stream",
     "text": [
      "\u001b[32m..(dataset: Val)\u001b[0m AUC 0.9437658930422292\n",
      "\u001b[32m..(dataset: Test) evaluation\u001b[0m\n"
     ]
    },
    {
     "name": "stderr",
     "output_type": "stream",
     "text": [
      "\n",
      "100%|██████████| 56/56 [00:51<00:00,  1.09it/s]\n"
     ]
    },
    {
     "name": "stdout",
     "output_type": "stream",
     "text": [
      "\u001b[32m..(dataset: Test)\u001b[0m AUC 0.945805705599238\n",
      "\u001b[34m[Itr 7100] Finished\u001b[0m\n",
      "\u001b[34m[Itr 7200] Finished\u001b[0m\n",
      "\u001b[34m[Itr 7300] Finished\u001b[0m\n",
      "\u001b[34m[Itr 7400] Finished\u001b[0m\n",
      "\u001b[34m[Itr 7500] Finished\u001b[0m\n",
      "\u001b[34m[Itr 7600] Finished\u001b[0m\n",
      "\u001b[34m[Itr 7700] Finished\u001b[0m\n",
      "\u001b[34m[Itr 7800] Finished\u001b[0m\n",
      "\u001b[34m[Itr 7900] Finished\u001b[0m\n",
      "\u001b[34m[Itr 8000] Finished\u001b[0m\n",
      "\u001b[31m[Itr 8000]\u001b[0m loss: 64.508469\n",
      "\u001b[32m..(dataset: Val) evaluation\u001b[0m\n"
     ]
    },
    {
     "name": "stderr",
     "output_type": "stream",
     "text": [
      "100%|██████████| 56/56 [00:51<00:00,  1.08it/s]"
     ]
    },
    {
     "name": "stdout",
     "output_type": "stream",
     "text": [
      "\u001b[32m..(dataset: Val)\u001b[0m AUC 0.9456442593724607\n",
      "\u001b[32m..(dataset: Test) evaluation\u001b[0m\n"
     ]
    },
    {
     "name": "stderr",
     "output_type": "stream",
     "text": [
      "\n",
      "100%|██████████| 56/56 [00:51<00:00,  1.09it/s]\n"
     ]
    },
    {
     "name": "stdout",
     "output_type": "stream",
     "text": [
      "\u001b[32m..(dataset: Test)\u001b[0m AUC 0.9476022608079371\n",
      "\u001b[34m[Itr 8100] Finished\u001b[0m\n",
      "\u001b[34m[Itr 8200] Finished\u001b[0m\n",
      "\u001b[34m[Itr 8300] Finished\u001b[0m\n",
      "\u001b[34m[Itr 8400] Finished\u001b[0m\n",
      "\u001b[34m[Itr 8500] Finished\u001b[0m\n",
      "\u001b[34m[Itr 8600] Finished\u001b[0m\n",
      "\u001b[34m[Itr 8700] Finished\u001b[0m\n",
      "\u001b[34m[Itr 8800] Finished\u001b[0m\n",
      "\u001b[34m[Itr 8900] Finished\u001b[0m\n",
      "\u001b[34m[Itr 9000] Finished\u001b[0m\n",
      "\u001b[31m[Itr 9000]\u001b[0m loss: 57.599665\n",
      "\u001b[32m..(dataset: Val) evaluation\u001b[0m\n"
     ]
    },
    {
     "name": "stderr",
     "output_type": "stream",
     "text": [
      "100%|██████████| 56/56 [00:50<00:00,  1.11it/s]"
     ]
    },
    {
     "name": "stdout",
     "output_type": "stream",
     "text": [
      "\u001b[32m..(dataset: Val)\u001b[0m AUC 0.947298609144194\n",
      "\u001b[32m..(dataset: Test) evaluation\u001b[0m\n"
     ]
    },
    {
     "name": "stderr",
     "output_type": "stream",
     "text": [
      "\n",
      "100%|██████████| 56/56 [00:51<00:00,  1.09it/s]\n"
     ]
    },
    {
     "name": "stdout",
     "output_type": "stream",
     "text": [
      "\u001b[32m..(dataset: Test)\u001b[0m AUC 0.9489762742253849\n",
      "\u001b[34m[Itr 9100] Finished\u001b[0m\n",
      "\u001b[34m[Itr 9200] Finished\u001b[0m\n",
      "\u001b[34m[Itr 9300] Finished\u001b[0m\n",
      "\u001b[34m[Itr 9400] Finished\u001b[0m\n",
      "\u001b[34m[Itr 9500] Finished\u001b[0m\n",
      "\u001b[34m[Itr 9600] Finished\u001b[0m\n",
      "\u001b[34m[Itr 9700] Finished\u001b[0m\n"
     ]
    }
   ],
   "source": [
    "model_trainer.train(num_itr=10000, \n",
    "                    display_itr=1000, \n",
    "                    eval_datasets=[val_dataset, test_dataset],\n",
    "                    evaluators=[auc_evaluator])"
   ]
  },
  {
   "cell_type": "code",
   "execution_count": 39,
   "metadata": {},
   "outputs": [
    {
     "name": "stdout",
     "output_type": "stream",
     "text": [
      "INFO:tensorflow:./bpr-model/-10000 is not in all_model_checkpoint_paths. Manually adding it.\n"
     ]
    }
   ],
   "source": [
    "model_trainer._model.save('./bpr-model', 10000)"
   ]
  },
  {
   "cell_type": "code",
   "execution_count": 56,
   "metadata": {},
   "outputs": [],
   "source": [
    "# ! ls -lh\n",
    "# model_trainer._model.serve(val_structured_arr)\n",
    "# print(test_dataset.get_unique_user_list())\n",
    "affinity=model_trainer._score_full_items(users=val_dataset.get_unique_user_list()[0:1])"
   ]
  },
  {
   "cell_type": "code",
   "execution_count": null,
   "metadata": {},
   "outputs": [],
   "source": [
    "affinity=model_trainer._score_full_items(users=val_dataset.get_unique_user_list()[0:1])"
   ]
  },
  {
   "cell_type": "code",
   "execution_count": 58,
   "metadata": {},
   "outputs": [
    {
     "data": {
      "text/plain": [
       "10.891712"
      ]
     },
     "execution_count": 58,
     "metadata": {},
     "output_type": "execute_result"
    }
   ],
   "source": [
    "np.max(affinity)"
   ]
  },
  {
   "cell_type": "code",
   "execution_count": 59,
   "metadata": {},
   "outputs": [],
   "source": [
    "import pandas as pd"
   ]
  },
  {
   "cell_type": "code",
   "execution_count": 62,
   "metadata": {},
   "outputs": [],
   "source": [
    "df=pd.DataFrame(train_structured_arr)"
   ]
  },
  {
   "cell_type": "code",
   "execution_count": 66,
   "metadata": {},
   "outputs": [
    {
     "data": {
      "text/html": [
       "<div>\n",
       "<style scoped>\n",
       "    .dataframe tbody tr th:only-of-type {\n",
       "        vertical-align: middle;\n",
       "    }\n",
       "\n",
       "    .dataframe tbody tr th {\n",
       "        vertical-align: top;\n",
       "    }\n",
       "\n",
       "    .dataframe thead th {\n",
       "        text-align: right;\n",
       "    }\n",
       "</style>\n",
       "<table border=\"1\" class=\"dataframe\">\n",
       "  <thead>\n",
       "    <tr style=\"text-align: right;\">\n",
       "      <th></th>\n",
       "      <th>user_id</th>\n",
       "      <th>item_id</th>\n",
       "    </tr>\n",
       "  </thead>\n",
       "  <tbody>\n",
       "    <tr>\n",
       "      <th>8718</th>\n",
       "      <td>234</td>\n",
       "      <td>5605</td>\n",
       "    </tr>\n",
       "    <tr>\n",
       "      <th>8719</th>\n",
       "      <td>234</td>\n",
       "      <td>11</td>\n",
       "    </tr>\n",
       "    <tr>\n",
       "      <th>8720</th>\n",
       "      <td>234</td>\n",
       "      <td>6548</td>\n",
       "    </tr>\n",
       "    <tr>\n",
       "      <th>8721</th>\n",
       "      <td>234</td>\n",
       "      <td>6549</td>\n",
       "    </tr>\n",
       "    <tr>\n",
       "      <th>8722</th>\n",
       "      <td>234</td>\n",
       "      <td>1553</td>\n",
       "    </tr>\n",
       "    <tr>\n",
       "      <th>8723</th>\n",
       "      <td>234</td>\n",
       "      <td>6550</td>\n",
       "    </tr>\n",
       "    <tr>\n",
       "      <th>8724</th>\n",
       "      <td>234</td>\n",
       "      <td>6551</td>\n",
       "    </tr>\n",
       "    <tr>\n",
       "      <th>8725</th>\n",
       "      <td>234</td>\n",
       "      <td>5609</td>\n",
       "    </tr>\n",
       "    <tr>\n",
       "      <th>8726</th>\n",
       "      <td>234</td>\n",
       "      <td>1875</td>\n",
       "    </tr>\n",
       "    <tr>\n",
       "      <th>8727</th>\n",
       "      <td>234</td>\n",
       "      <td>5547</td>\n",
       "    </tr>\n",
       "    <tr>\n",
       "      <th>8728</th>\n",
       "      <td>234</td>\n",
       "      <td>6552</td>\n",
       "    </tr>\n",
       "    <tr>\n",
       "      <th>8729</th>\n",
       "      <td>234</td>\n",
       "      <td>5628</td>\n",
       "    </tr>\n",
       "  </tbody>\n",
       "</table>\n",
       "</div>"
      ],
      "text/plain": [
       "      user_id  item_id\n",
       "8718      234     5605\n",
       "8719      234       11\n",
       "8720      234     6548\n",
       "8721      234     6549\n",
       "8722      234     1553\n",
       "8723      234     6550\n",
       "8724      234     6551\n",
       "8725      234     5609\n",
       "8726      234     1875\n",
       "8727      234     5547\n",
       "8728      234     6552\n",
       "8729      234     5628"
      ]
     },
     "execution_count": 66,
     "metadata": {},
     "output_type": "execute_result"
    }
   ],
   "source": [
    "df[df.user_id==234]"
   ]
  },
  {
   "cell_type": "code",
   "execution_count": 82,
   "metadata": {},
   "outputs": [],
   "source": [
    "affinity=model_trainer._score_full_items(users=[234x`])"
   ]
  },
  {
   "cell_type": "code",
   "execution_count": 91,
   "metadata": {},
   "outputs": [],
   "source": [
    "# (-affinity).argsort()[:10]\n",
    "# idx=\n",
    "# [k for k,v in map_to_item_id.items() if k==idx]\n",
    "map_item_to_idx=[(v,k) for k,v in map_to_item_id.items()]"
   ]
  },
  {
   "cell_type": "code",
   "execution_count": 94,
   "metadata": {},
   "outputs": [],
   "source": [
    "map_item_to_idx=sorted(map_item_to_idx)\n",
    "map_item_to_idx = [x[1] for x in map_item_to_idx]\n",
    "map_item_to_idx=np.array(map_item_to_idx)"
   ]
  },
  {
   "cell_type": "code",
   "execution_count": null,
   "metadata": {},
   "outputs": [],
   "source": [
    "idf[idf['doc.id'].isin(map_item_to_idxdf[df.user_id==234].item_id.tolist())].title"
   ]
  },
  {
   "cell_type": "code",
   "execution_count": 70,
   "metadata": {},
   "outputs": [],
   "source": [
    "idf=pd.read_csv('ctrsr_datasets/citeulike-a/raw-data.csv', encoding='ISO-8859-1')"
   ]
  },
  {
   "cell_type": "code",
   "execution_count": 109,
   "metadata": {},
   "outputs": [
    {
     "data": {
      "text/plain": [
       "822      framing processes and social movements an over...\n",
       "4178                       prokaryotes the unseen majority\n",
       "6358            towards multidimensional genome annotation\n",
       "12825    a biomolecular force field based on the free e...\n",
       "15707    the gene ontologys reference genome project a ...\n",
       "16044    finding structure with randomness stochastic a...\n",
       "16097    how to identify essential genes from molecular...\n",
       "16318    a quick guide for developing effective bioinfo...\n",
       "Name: title, dtype: object"
      ]
     },
     "execution_count": 109,
     "metadata": {},
     "output_type": "execute_result"
    }
   ],
   "source": [
    "idf[idf['doc.id'].isin(map_item_to_idx[df[df.user_id==15].item_id.tolist()])].title"
   ]
  },
  {
   "cell_type": "code",
   "execution_count": null,
   "metadata": {},
   "outputs": [],
   "source": [
    "model_trainer._model.embed"
   ]
  },
  {
   "cell_type": "code",
   "execution_count": 102,
   "metadata": {},
   "outputs": [
    {
     "data": {
      "text/plain": [
       "array(['5606', '3332', '512', '11036', '6432', '9678', '5722', '6528',\n",
       "       '6715', '4557', '12015', '2642'], dtype='<U5')"
      ]
     },
     "execution_count": 102,
     "metadata": {},
     "output_type": "execute_result"
    }
   ],
   "source": [
    "map_item_to_idx[df[df.user_id==234].item_id.tolist()]"
   ]
  }
 ],
 "metadata": {
  "kernelspec": {
   "display_name": "Python3 (tfenv)",
   "language": "python",
   "name": "tfenv"
  },
  "language_info": {
   "codemirror_mode": {
    "name": "ipython",
    "version": 3
   },
   "file_extension": ".py",
   "mimetype": "text/x-python",
   "name": "python",
   "nbconvert_exporter": "python",
   "pygments_lexer": "ipython3",
   "version": "3.5.2"
  }
 },
 "nbformat": 4,
 "nbformat_minor": 2
}

{
 "cells": [
  {
   "cell_type": "code",
   "execution_count": 1,
   "metadata": {},
   "outputs": [],
   "source": [
    "import os\n",
    "os.chdir('/mnt/data/akshit.jain/user_clicks/')"
   ]
  },
  {
   "cell_type": "code",
   "execution_count": 2,
   "metadata": {},
   "outputs": [],
   "source": [
    "import pandas as pd\n",
    "import fastavro\n",
    "import numpy as np\n",
    "\n",
    "def avro_df(filepath, encoding='rb'):\n",
    "    # Open file stream\n",
    "    with open(filepath, encoding) as fp:\n",
    "        # Configure Avro reader\n",
    "        reader = fastavro.reader(fp)\n",
    "        # Load records in memory\n",
    "        records = [r for r in reader]\n",
    "        # Populate pandas.DataFrame with records\n",
    "        df = pd.DataFrame.from_records(records)\n",
    "        # Return created DataFrame\n",
    "        return df"
   ]
  },
  {
   "cell_type": "code",
   "execution_count": 13,
   "metadata": {},
   "outputs": [],
   "source": [
    "df=avro_df('clicks_visual_stores.avro')"
   ]
  },
  {
   "cell_type": "code",
   "execution_count": 18,
   "metadata": {},
   "outputs": [
    {
     "name": "stdout",
     "output_type": "stream",
     "text": [
      "http://www.flipkart.com/item/RPTEEGVZPFSK8JPJ\n",
      "http://www.flipkart.com/item/DDHFFDFWZT3XHNEP\n",
      "http://www.flipkart.com/item/DDHFYGZHPK5FWE8G\n",
      "http://www.flipkart.com/item/RPTF4A9UYWS2TYVB\n"
     ]
    },
    {
     "data": {
      "text/plain": [
       "[None, None, None, None]"
      ]
     },
     "execution_count": 18,
     "metadata": {},
     "output_type": "execute_result"
    }
   ],
   "source": [
    "[print(\"http://www.flipkart.com/item/{}\".format(f)) for f in df[df.userId=='03231c7e3b6ab49274b71ff2968708ce'].fsn.tolist()]"
   ]
  },
  {
   "cell_type": "code",
   "execution_count": 4,
   "metadata": {},
   "outputs": [],
   "source": [
    "STORE='mgl'\n",
    "store_df = df[df.store.str.contains(STORE)]"
   ]
  },
  {
   "cell_type": "code",
   "execution_count": 5,
   "metadata": {},
   "outputs": [],
   "source": [
    "import os\n",
    "import os.path as osp\n",
    "save_dir='category_data/'+'_'.join(STORE.split('/'))\n",
    "os.makedirs(save_dir, exist_ok=True)\n",
    "store_df.to_pickle(osp.join('raw_user_click_df.pk'))"
   ]
  },
  {
   "cell_type": "markdown",
   "metadata": {},
   "source": [
    "## Populalte with fsn metadata"
   ]
  },
  {
   "cell_type": "code",
   "execution_count": 128,
   "metadata": {},
   "outputs": [],
   "source": [
    "import requests as R\n",
    "import json\n",
    "import itertools\n",
    "import traceback\n",
    "\n",
    "BATCH_SIZE=200\n",
    "\n",
    "def fetch_from_api(fsns):\n",
    "    uri=\"http://10.47.2.116:31100/views/product_base_info?entityIds={}\".format(','.join(fsns))\n",
    "    resp = R.get(uri)\n",
    "    return resp.json()\n",
    "\n",
    "def parse_product_info(resp):\n",
    "    fsn = resp['entityId']\n",
    "    try:\n",
    "        resp = resp['view']\n",
    "        image_id = resp['primary_image_id']\n",
    "        image=[x for x in resp['product_images'] if x['id']==image_id][0]['url']\n",
    "        title=resp['titles']['w3_title']\n",
    "    except KeyError:\n",
    "        image=''\n",
    "        title=''\n",
    "        print(\"failed for \", fsn)\n",
    "        return\n",
    "    return {'fsn':fsn,'url':image,'title':title}\n",
    "\n",
    "def parse_response(resp):\n",
    "    return [parse_product_info(x) for x in resp['entityViews']]\n",
    "\n",
    "def get_fsns_images(fsn_df):\n",
    "    print(\"batch: {}\".format(fsn_df.name))\n",
    "    try:\n",
    "        fsns = fsn_df.fsn.tolist()\n",
    "        resp = fetch_from_api(fsns)\n",
    "        return parse_response(resp)\n",
    "    except Exception as e:\n",
    "        print('failed!!!')\n",
    "        print(e)\n",
    "        return []\n",
    "\n",
    "def batch_and_get_images(fsns):\n",
    "    fdf=pd.DataFrame(fsns, columns=['fsn'])\n",
    "    fdf['batch']=fdf.index//BATCH_SIZE\n",
    "    print(\"starting fetch for {} batches\".format(len(fdf.batch.unique())))\n",
    "    image_urls = fdf.groupby('batch').apply(get_fsns_images)\n",
    "    return pd.DataFrame(list(itertools.chain.from_iterable(image_urls.tolist())))"
   ]
  },
  {
   "cell_type": "code",
   "execution_count": 115,
   "metadata": {},
   "outputs": [
    {
     "name": "stdout",
     "output_type": "stream",
     "text": [
      "starting fetch for 202 batches\n",
      "batch: 185\n",
      "batch: 185\n",
      "CPU times: user 92 ms, sys: 4 ms, total: 96 ms\n",
      "Wall time: 1.76 s\n"
     ]
    }
   ],
   "source": [
    "%%time\n",
    "fsn_meta=batch_and_get_images(store_df.fsn.unique())"
   ]
  },
  {
   "cell_type": "code",
   "execution_count": 7,
   "metadata": {},
   "outputs": [],
   "source": [
    "# fsn_meta.to_pickle(osp.join(save_dir, 'fsn_meta.pk'))\n",
    "fsn_meta=pd.read_pickle(osp.join(save_dir, 'fsn_meta.pk'))\n",
    "fsn_meta.reset_index(drop=True, inplace=True)"
   ]
  },
  {
   "cell_type": "code",
   "execution_count": 139,
   "metadata": {},
   "outputs": [
    {
     "data": {
      "text/html": [
       "<div>\n",
       "<style scoped>\n",
       "    .dataframe tbody tr th:only-of-type {\n",
       "        vertical-align: middle;\n",
       "    }\n",
       "\n",
       "    .dataframe tbody tr th {\n",
       "        vertical-align: top;\n",
       "    }\n",
       "\n",
       "    .dataframe thead th {\n",
       "        text-align: right;\n",
       "    }\n",
       "</style>\n",
       "<table border=\"1\" class=\"dataframe\">\n",
       "  <thead>\n",
       "    <tr style=\"text-align: right;\">\n",
       "      <th></th>\n",
       "      <th>fsn</th>\n",
       "      <th>title</th>\n",
       "      <th>url</th>\n",
       "    </tr>\n",
       "  </thead>\n",
       "  <tbody>\n",
       "    <tr>\n",
       "      <th>0</th>\n",
       "      <td>VPAECBWQMRXHSYZ6</td>\n",
       "      <td>Hot Wheels Mattel K5904 Hot Wheels (3 pack) (C...</td>\n",
       "      <td>http://img.fkcdn.com/image/vehicle-pull-along/...</td>\n",
       "    </tr>\n",
       "    <tr>\n",
       "      <th>1</th>\n",
       "      <td>STFESQYTPEZE2MRH</td>\n",
       "      <td>Tinytot TBB_001  - 12 inch</td>\n",
       "      <td>http://img.fkcdn.com/image/j12gakw0/stuffed-to...</td>\n",
       "    </tr>\n",
       "    <tr>\n",
       "      <th>2</th>\n",
       "      <td>SPLEGMWTBNVWGRHY</td>\n",
       "      <td>Rapidity Ldrago Destroy Beyblade with Launcher</td>\n",
       "      <td>http://img.fkcdn.com/image/spin-press-launch-t...</td>\n",
       "    </tr>\n",
       "    <tr>\n",
       "      <th>3</th>\n",
       "      <td>PNCFY9KQVZT7ZVWJ</td>\n",
       "      <td>Faber-Castell 6 Bi Colour Pencils Pencil</td>\n",
       "      <td>http://img.fkcdn.com/image/jh80ia80/pencil/v/w...</td>\n",
       "    </tr>\n",
       "    <tr>\n",
       "      <th>4</th>\n",
       "      <td>BLCDUWGFDYDJ5FQK</td>\n",
       "      <td>Ratnas Genius Block</td>\n",
       "      <td>http://img.fkcdn.com/image/block-construction/...</td>\n",
       "    </tr>\n",
       "  </tbody>\n",
       "</table>\n",
       "</div>"
      ],
      "text/plain": [
       "                fsn                                              title  \\\n",
       "0  VPAECBWQMRXHSYZ6  Hot Wheels Mattel K5904 Hot Wheels (3 pack) (C...   \n",
       "1  STFESQYTPEZE2MRH                         Tinytot TBB_001  - 12 inch   \n",
       "2  SPLEGMWTBNVWGRHY     Rapidity Ldrago Destroy Beyblade with Launcher   \n",
       "3  PNCFY9KQVZT7ZVWJ           Faber-Castell 6 Bi Colour Pencils Pencil   \n",
       "4  BLCDUWGFDYDJ5FQK                                Ratnas Genius Block   \n",
       "\n",
       "                                                 url  \n",
       "0  http://img.fkcdn.com/image/vehicle-pull-along/...  \n",
       "1  http://img.fkcdn.com/image/j12gakw0/stuffed-to...  \n",
       "2  http://img.fkcdn.com/image/spin-press-launch-t...  \n",
       "3  http://img.fkcdn.com/image/jh80ia80/pencil/v/w...  \n",
       "4  http://img.fkcdn.com/image/block-construction/...  "
      ]
     },
     "execution_count": 139,
     "metadata": {},
     "output_type": "execute_result"
    }
   ],
   "source": [
    "fsn_meta.head()"
   ]
  },
  {
   "cell_type": "markdown",
   "metadata": {},
   "source": [
    "# Download images"
   ]
  },
  {
   "cell_type": "code",
   "execution_count": 6,
   "metadata": {},
   "outputs": [],
   "source": [
    "import urllib\n",
    "from urllib.parse import urlparse\n",
    "import subprocess as sp\n",
    "import os.path as osp\n",
    "# max width x height supported on tf hub modules are 224-331 so we will go with 300 for now\n",
    "IMAGE_DIM=300\n",
    "BATCH_SIZE=100\n",
    "images_dir=osp.join(save_dir,'product_images')\n",
    "os.makedirs(images_dir, exist_ok=True)\n",
    "\n",
    "def get_fsn_image_path(fsn):\n",
    "    return osp.join(images_dir, fsn+'.jpg')\n",
    "\n",
    "def get_dynamic_url(static_url):\n",
    "    path=urlparse(static_url).path\n",
    "    path=path.replace('/image/','')\n",
    "    HOST=\"http://rukminim1.flixcart.com/image\"\n",
    "    return \"{0}/@width/@height/{1}?q=@quality\".format(HOST, path)\n",
    "\n",
    "def get_res_image(url, width, height, quality=100, is_static=True):\n",
    "    if is_static:\n",
    "        url=get_dynamic_url(url)\n",
    "    return url.replace('@width', str(width)).replace('@height', str(height)).replace(\"@quality\", str(quality))\n",
    "\n",
    "def single_batch_download(fsns):\n",
    "    print(\"downloading batch: {}\".format(fsns.name))\n",
    "    def image_download(fsn, url):\n",
    "        img_uri=get_res_image(url, IMAGE_DIM, IMAGE_DIM)# fsn_info['image']['url'].replace('{@width}', str(IMAGE_DIM)).replace('{@height}', str(IMAGE_DIM)).replace('{@quality}', str(100))\n",
    "        dump_file=get_fsn_image_path(fsn)\n",
    "        if osp.exists(dump_file):\n",
    "            return\n",
    "        cmd=\"curl -o {0} '{1}' &\".format(dump_file, img_uri)\n",
    "        sp.call(cmd, shell=True)\n",
    "    fsns.apply(lambda x: image_download(x.fsn, x.url), axis=1)\n",
    "\n",
    "def batch_and_download(fsn_image):\n",
    "    fsn_image['partition'] = fsn_image.index//BATCH_SIZE\n",
    "    print(\"total batches: {}\".format(fsn_image.partition.unique().shape))\n",
    "    fsn_image.groupby('partition').apply(single_batch_download)\n"
   ]
  },
  {
   "cell_type": "code",
   "execution_count": null,
   "metadata": {
    "collapsed": true
   },
   "outputs": [
    {
     "name": "stdout",
     "output_type": "stream",
     "text": [
      "total batches: (604,)\n",
      "downloading batch: 0\n",
      "downloading batch: 0\n",
      "downloading batch: 1\n",
      "downloading batch: 2\n",
      "downloading batch: 3\n",
      "downloading batch: 4\n",
      "downloading batch: 5\n",
      "downloading batch: 6\n",
      "downloading batch: 7\n",
      "downloading batch: 8\n",
      "downloading batch: 9\n",
      "downloading batch: 10\n",
      "downloading batch: 11\n",
      "downloading batch: 12\n",
      "downloading batch: 13\n",
      "downloading batch: 14\n",
      "downloading batch: 15\n",
      "downloading batch: 16\n",
      "downloading batch: 17\n",
      "downloading batch: 18\n",
      "downloading batch: 19\n",
      "downloading batch: 20\n",
      "downloading batch: 21\n",
      "downloading batch: 22\n",
      "downloading batch: 23\n",
      "downloading batch: 24\n",
      "downloading batch: 25\n",
      "downloading batch: 26\n",
      "downloading batch: 27\n",
      "downloading batch: 28\n",
      "downloading batch: 29\n",
      "downloading batch: 30\n",
      "downloading batch: 31\n",
      "downloading batch: 32\n",
      "downloading batch: 33\n",
      "downloading batch: 34\n",
      "downloading batch: 35\n",
      "downloading batch: 36\n",
      "downloading batch: 37\n",
      "downloading batch: 38\n",
      "downloading batch: 39\n",
      "downloading batch: 40\n",
      "downloading batch: 41\n",
      "downloading batch: 42\n",
      "downloading batch: 43\n",
      "downloading batch: 44\n",
      "downloading batch: 45\n",
      "downloading batch: 46\n",
      "downloading batch: 47\n",
      "downloading batch: 48\n",
      "downloading batch: 49\n",
      "downloading batch: 50\n",
      "downloading batch: 51\n",
      "downloading batch: 52\n",
      "downloading batch: 53\n",
      "downloading batch: 54\n",
      "downloading batch: 55\n",
      "downloading batch: 56\n",
      "downloading batch: 57\n",
      "downloading batch: 58\n",
      "downloading batch: 59\n",
      "downloading batch: 60\n",
      "downloading batch: 61\n",
      "downloading batch: 62\n",
      "downloading batch: 63\n",
      "downloading batch: 64\n",
      "downloading batch: 65\n",
      "downloading batch: 66\n",
      "downloading batch: 67\n",
      "downloading batch: 68\n",
      "downloading batch: 69\n",
      "downloading batch: 70\n",
      "downloading batch: 71\n",
      "downloading batch: 72\n",
      "downloading batch: 73\n",
      "downloading batch: 74\n",
      "downloading batch: 75\n",
      "downloading batch: 76\n",
      "downloading batch: 77\n",
      "downloading batch: 78\n",
      "downloading batch: 79\n",
      "downloading batch: 80\n",
      "downloading batch: 81\n",
      "downloading batch: 82\n",
      "downloading batch: 83\n",
      "downloading batch: 84\n",
      "downloading batch: 85\n",
      "downloading batch: 86\n",
      "downloading batch: 87\n",
      "downloading batch: 88\n",
      "downloading batch: 89\n",
      "downloading batch: 90\n",
      "downloading batch: 91\n",
      "downloading batch: 92\n",
      "downloading batch: 93\n",
      "downloading batch: 94\n",
      "downloading batch: 95\n",
      "downloading batch: 96\n",
      "downloading batch: 97\n",
      "downloading batch: 98\n",
      "downloading batch: 99\n",
      "downloading batch: 100\n",
      "downloading batch: 101\n",
      "downloading batch: 102\n",
      "downloading batch: 103\n",
      "downloading batch: 104\n",
      "downloading batch: 105\n",
      "downloading batch: 106\n",
      "downloading batch: 107\n",
      "downloading batch: 108\n",
      "downloading batch: 109\n",
      "downloading batch: 110\n",
      "downloading batch: 111\n",
      "downloading batch: 112\n",
      "downloading batch: 113\n",
      "downloading batch: 114\n",
      "downloading batch: 115\n",
      "downloading batch: 116\n",
      "downloading batch: 117\n",
      "downloading batch: 118\n",
      "downloading batch: 119\n",
      "downloading batch: 120\n",
      "downloading batch: 121\n",
      "downloading batch: 122\n",
      "downloading batch: 123\n",
      "downloading batch: 124\n",
      "downloading batch: 125\n",
      "downloading batch: 126\n",
      "downloading batch: 127\n",
      "downloading batch: 128\n",
      "downloading batch: 129\n",
      "downloading batch: 130\n",
      "downloading batch: 131\n",
      "downloading batch: 132\n"
     ]
    }
   ],
   "source": [
    "batch_and_download(fsn_meta[['fsn','url']])"
   ]
  },
  {
   "cell_type": "markdown",
   "metadata": {},
   "source": [
    "### validate images downloaded"
   ]
  },
  {
   "cell_type": "code",
   "execution_count": 229,
   "metadata": {},
   "outputs": [
    {
     "data": {
      "image/jpeg": "[encoded data removed]",
      "text/plain": [
       "<IPython.core.display.Image object>"
      ]
     },
     "execution_count": 229,
     "metadata": {
      "image/jpeg": {
       "height": 300,
       "width": 300
      }
     },
     "output_type": "execute_result"
    }
   ],
   "source": [
    "from IPython.display import Image\n",
    "Image(filename = get_fsn_image_path(fsn_meta.fsn[12]), width=300, height=300)"
   ]
  },
  {
   "cell_type": "code",
   "execution_count": 228,
   "metadata": {},
   "outputs": [
    {
     "name": "stdout",
     "output_type": "stream",
     "text": [
      "# of imgs downloaded: 60371\n"
     ]
    }
   ],
   "source": [
    "print(\"# of imgs downloaded: {}\".format(len(os.listdir(images_dir))))"
   ]
  },
  {
   "cell_type": "markdown",
   "metadata": {},
   "source": [
    "### Fill missing images with white"
   ]
  },
  {
   "cell_type": "code",
   "execution_count": 227,
   "metadata": {},
   "outputs": [
    {
     "name": "stdout",
     "output_type": "stream",
     "text": [
      "bad fsns were: ['9781849081511', '9789384089429', '9781259006210', '9781858943398', '9789384089443', '9780762429776', '9789386021588', 'DDHF4TS6W7BHZPBD', 'STFEMRNHPUSEWTJW', 'BDGDR7C3DXJFQVGH', 'PBXFYWVJPKBGXVRN', 'STFEG3XGB3Y6YFJV', 'RPTEMZGGZGRQXJZY']\n"
     ]
    }
   ],
   "source": [
    "from PIL import Image, ImageDraw\n",
    "def find_corrupt_image_fsns(fsns):\n",
    "    for fsn in fsns:\n",
    "        try:\n",
    "            Image.open(get_fsn_image_path(fsn))\n",
    "        except IOError:\n",
    "            yield fsn\n",
    "null_image_fsns=list(find_corrupt_image_fsns(fsn_meta.fsn.tolist()))\n",
    "print(\"bad fsns were: {}\".format(null_image_fsns))\n",
    "for fsn in null_image_fsns:\n",
    "    img = Image.new('RGB', (IMAGE_DIM, IMAGE_DIM), \"white\")\n",
    "    img.save(get_fsn_image_path(fsn), \"JPEG\")"
   ]
  },
  {
   "cell_type": "markdown",
   "metadata": {},
   "source": [
    "# Find Image embeddings"
   ]
  },
  {
   "cell_type": "code",
   "execution_count": 8,
   "metadata": {},
   "outputs": [],
   "source": [
    "import tensorflow as tf\n",
    "import tensorflow_hub as hub"
   ]
  },
  {
   "cell_type": "code",
   "execution_count": 9,
   "metadata": {
    "collapsed": true
   },
   "outputs": [
    {
     "name": "stdout",
     "output_type": "stream",
     "text": [
      "WARNING:tensorflow:From /mnt/data/virtualenv/tensorflow/lib/python3.5/site-packages/tensorflow/python/ops/image_ops_impl.py:1169: calling squeeze (from tensorflow.python.ops.array_ops) with squeeze_dims is deprecated and will be removed in a future version.\n",
      "Instructions for updating:\n",
      "Use the `axis` argument instead\n",
      "INFO:tensorflow:Using /tmp/tfhub_modules to cache modules.\n",
      "INFO:tensorflow:module loaded\n",
      "INFO:tensorflow:Saver not created because there are no variables in the graph to restore\n",
      "INFO:tensorflow:globals initiated\n",
      "INFO:tensorflow:(1000, 1056)\n",
      "INFO:tensorflow:(1000, 1056)\n",
      "INFO:tensorflow:(1000, 1056)\n",
      "INFO:tensorflow:(1000, 1056)\n",
      "INFO:tensorflow:(1000, 1056)\n",
      "INFO:tensorflow:(1000, 1056)\n",
      "INFO:tensorflow:(1000, 1056)\n",
      "INFO:tensorflow:(1000, 1056)\n",
      "INFO:tensorflow:(1000, 1056)\n",
      "INFO:tensorflow:(1000, 1056)\n",
      "INFO:tensorflow:(1000, 1056)\n",
      "INFO:tensorflow:(1000, 1056)\n",
      "INFO:tensorflow:(1000, 1056)\n",
      "INFO:tensorflow:(1000, 1056)\n",
      "INFO:tensorflow:(1000, 1056)\n",
      "INFO:tensorflow:(1000, 1056)\n",
      "INFO:tensorflow:(1000, 1056)\n",
      "INFO:tensorflow:(1000, 1056)\n",
      "INFO:tensorflow:(1000, 1056)\n",
      "INFO:tensorflow:(1000, 1056)\n",
      "INFO:tensorflow:(1000, 1056)\n",
      "INFO:tensorflow:(1000, 1056)\n",
      "INFO:tensorflow:(1000, 1056)\n",
      "INFO:tensorflow:(1000, 1056)\n",
      "INFO:tensorflow:(1000, 1056)\n",
      "INFO:tensorflow:(1000, 1056)\n",
      "INFO:tensorflow:(1000, 1056)\n",
      "INFO:tensorflow:(1000, 1056)\n",
      "INFO:tensorflow:(1000, 1056)\n",
      "INFO:tensorflow:(1000, 1056)\n",
      "INFO:tensorflow:(1000, 1056)\n",
      "INFO:tensorflow:(1000, 1056)\n",
      "INFO:tensorflow:(1000, 1056)\n",
      "INFO:tensorflow:(1000, 1056)\n",
      "INFO:tensorflow:(1000, 1056)\n",
      "INFO:tensorflow:(1000, 1056)\n",
      "INFO:tensorflow:(1000, 1056)\n",
      "INFO:tensorflow:(1000, 1056)\n",
      "INFO:tensorflow:(1000, 1056)\n",
      "INFO:tensorflow:(1000, 1056)\n",
      "INFO:tensorflow:(1000, 1056)\n",
      "INFO:tensorflow:(1000, 1056)\n",
      "INFO:tensorflow:(1000, 1056)\n",
      "INFO:tensorflow:(1000, 1056)\n",
      "INFO:tensorflow:(1000, 1056)\n",
      "INFO:tensorflow:(1000, 1056)\n",
      "INFO:tensorflow:(1000, 1056)\n",
      "INFO:tensorflow:(1000, 1056)\n",
      "INFO:tensorflow:(1000, 1056)\n",
      "INFO:tensorflow:(1000, 1056)\n",
      "INFO:tensorflow:(1000, 1056)\n",
      "INFO:tensorflow:(1000, 1056)\n",
      "INFO:tensorflow:(1000, 1056)\n",
      "INFO:tensorflow:(1000, 1056)\n",
      "INFO:tensorflow:(1000, 1056)\n",
      "INFO:tensorflow:(1000, 1056)\n",
      "INFO:tensorflow:(1000, 1056)\n",
      "INFO:tensorflow:(1000, 1056)\n",
      "INFO:tensorflow:(1000, 1056)\n",
      "INFO:tensorflow:(1000, 1056)\n",
      "INFO:tensorflow:(364, 1056)\n",
      "INFO:tensorflow:all embs computed\n"
     ]
    }
   ],
   "source": [
    "def preprocess_image(image_file, width=224, height=224):\n",
    "    image_encoded = tf.read_file(image_file)\n",
    "    image = tf.image.decode_image(image_encoded, channels=3, dtype=tf.float32)\n",
    "    image = tf.Print(image, [image], message=\"preprocessing image\")\n",
    "    image_padded = tf.image.resize_image_with_pad(image, target_height=height, target_width=width)\n",
    "    image_padded.set_shape(shape=(width, height, 3))\n",
    "    return image_padded\n",
    "\n",
    "def compute_without_batch(images, module):\n",
    "    embs = module(images)# tf.map_fn(module, images, back_prop=False)\n",
    "    return embs.eval()\n",
    "\n",
    "def compute_with_batch_low(images, module):\n",
    "    image_batches=tf.train.batch([images], batch_size=10, enqueue_many=True, allow_smaller_final_batch=True)\n",
    "    tf.train.start_queue_runners()\n",
    "    return module(image_batches).eval()\n",
    "    #emb_batches = tf.map_fn(module, image_batches, back_prop=False)\n",
    "    #return emb_batches.eval()\n",
    "    \n",
    "def get_image_embeddings(image_files_list):\n",
    "    with tf.Graph().as_default():\n",
    "        # load and batch images\n",
    "        file_paths_tensor = tf.convert_to_tensor(image_files_list, dtype=tf.string)\n",
    "        file_paths_queue = tf.train.string_input_producer(file_paths_tensor, num_epochs=1, shuffle=False)\n",
    "        image_file_path = file_paths_queue.dequeue()\n",
    "        image = preprocess_image(image_file_path)\n",
    "\n",
    "        images=tf.train.batch([image], batch_size=1000, allow_smaller_final_batch=True)\n",
    "\n",
    "        # load module\n",
    "        NASNET_MOBILE='https://tfhub.dev/google/imagenet/nasnet_mobile/feature_vector/1'\n",
    "        module = hub.Module(NASNET_MOBILE)\n",
    "        tf.logging.info('module loaded')\n",
    "        #expected_width, expected_height= hub.get_expected_image_size(module)\n",
    "\n",
    "        embs = module(images)\n",
    "        \n",
    "        config = tf.ConfigProto()\n",
    "        config.gpu_options.allow_growth=True\n",
    "        with tf.Session(config=config) as sess:\n",
    "            sess.run(tf.local_variables_initializer())\n",
    "            sess.run(tf.global_variables_initializer())\n",
    "            sess.run(tf.tables_initializer())\n",
    "            tf.logging.info('globals initiated')\n",
    "            \n",
    "            tf.train.start_queue_runners()\n",
    "            \n",
    "            embs_list = []\n",
    "            try:\n",
    "                while True:\n",
    "                    _embs = embs.eval()\n",
    "                    tf.logging.info(_embs.shape)\n",
    "                    embs_list.append(_embs)\n",
    "            except tf.errors.OutOfRangeError:\n",
    "                tf.logging.info('all embs computed')\n",
    "            sess.close()\n",
    "            return np.vstack(embs_list)\n",
    "\n",
    "def get_fsns_embeddings(fsns):\n",
    "    fsn_images = [get_fsn_image_path(fsn) for fsn in fsns]\n",
    "    return get_image_embeddings(fsn_images)\n",
    "\n",
    "embs=get_fsns_embeddings(fsn_meta.fsn.tolist())"
   ]
  },
  {
   "cell_type": "code",
   "execution_count": 10,
   "metadata": {},
   "outputs": [],
   "source": [
    "embs.tofile(osp.join(save_dir, 'fsn_embs.pk'))"
   ]
  },
  {
   "cell_type": "markdown",
   "metadata": {},
   "source": [
    "# Nearest Neighbour"
   ]
  },
  {
   "cell_type": "code",
   "execution_count": 30,
   "metadata": {},
   "outputs": [
    {
     "data": {
      "text/plain": [
       "True"
      ]
     },
     "execution_count": 30,
     "metadata": {},
     "output_type": "execute_result"
    }
   ],
   "source": [
    "%%time\n",
    "from annoy import AnnoyIndex\n",
    "\n",
    "t = AnnoyIndex(embs.shape[1], metric='dot')  # Length of item vector that will be indexed    \n",
    "fsn_meta.apply(lambda x: t.add_item(x.name, embs[x.name]), axis=1)\n",
    "t.build(10) # 10 trees\n",
    "nn_tree_path=osp.join(save_dir, 'nn.ann')\n",
    "t.save(nn_tree_path)"
   ]
  },
  {
   "cell_type": "code",
   "execution_count": 31,
   "metadata": {},
   "outputs": [
    {
     "data": {
      "text/plain": [
       "True"
      ]
     },
     "execution_count": 31,
     "metadata": {},
     "output_type": "execute_result"
    }
   ],
   "source": [
    "u = AnnoyIndex(embs.shape[1])\n",
    "u.load(nn_tree_path) # super fast, will just mmap the file"
   ]
  },
  {
   "cell_type": "code",
   "execution_count": null,
   "metadata": {},
   "outputs": [],
   "source": [
    "DBG_FSN=np.random.randint(fsn_meta.shape[0])\n",
    "nn_fsns=fsn_meta.iloc[u.get_nns_by_item(DBG_FSN, 10)].fsn.values\n",
    "plot_images(nn_fsns)"
   ]
  },
  {
   "cell_type": "code",
   "execution_count": 40,
   "metadata": {},
   "outputs": [],
   "source": [
    "import matplotlib.image as mpimg\n",
    "import matplotlib.pyplot as plt\n",
    "import matplotlib\n",
    "\n",
    "def plot_images(fsns):\n",
    "    imgs=[mpimg.imread(get_fsn_image_path(f)) for f in fsns]\n",
    "    N_COLS=5\n",
    "    N_ROWS=(len(fsns)+N_COLS-1)//N_COLS\n",
    "    PLOT_WIDTH=17\n",
    "    PLOT_HEIGHT=1.5*int(N_ROWS*(PLOT_WIDTH/N_COLS))\n",
    "    f, axarr = plt.subplots(N_ROWS, N_COLS, squeeze=False, figsize=(PLOT_WIDTH,PLOT_HEIGHT))\n",
    "    [(ax.get_xaxis().set_visible(False), ax.get_yaxis().set_visible(False), ax.axis('off')) for ax in f.axes]\n",
    "    \n",
    "    f.tight_layout()\n",
    "    for idx, fsn in enumerate(fsns):\n",
    "        plt.axis('off')\n",
    "        plot_row = idx//N_COLS\n",
    "        plot_col = idx%N_COLS\n",
    "        axarr[plot_row,plot_col].imshow(imgs[idx])\n",
    "        title=fsn_meta[fsn_meta.fsn==fsns[idx]].iloc[0].title\n",
    "        axarr[plot_row,plot_col].set_title(title)\n",
    "    #plt.savefig('similar_demo_3.png')\n",
    "    plt.show()"
   ]
  }
 ],
 "metadata": {
  "kernelspec": {
   "display_name": "Python3 (tfenv)",
   "language": "python",
   "name": "tfenv"
  },
  "language_info": {
   "codemirror_mode": {
    "name": "ipython",
    "version": 3
   },
   "file_extension": ".py",
   "mimetype": "text/x-python",
   "name": "python",
   "nbconvert_exporter": "python",
   "pygments_lexer": "ipython3",
   "version": "3.5.2"
  }
 },
 "nbformat": 4,
 "nbformat_minor": 2
}

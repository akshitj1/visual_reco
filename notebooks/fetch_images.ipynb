{
 "cells": [
  {
   "cell_type": "code",
   "execution_count": 65,
   "metadata": {},
   "outputs": [],
   "source": [
    "import os\n",
    "os.chdir('/mnt/data/akshit.jain/visual_reco')\n",
    "import pandas as pd"
   ]
  },
  {
   "cell_type": "code",
   "execution_count": 66,
   "metadata": {},
   "outputs": [],
   "source": [
    "all_fsn_images=pd.read_csv('tshirt_image_urls.tsv', sep=chr(1), header=None, names=['fsn','url'])"
   ]
  },
  {
   "cell_type": "code",
   "execution_count": 165,
   "metadata": {},
   "outputs": [],
   "source": [
    "all_fsn_images=pd.concat([all_fsn_images, missing_fsn_images], ignore_index=True)"
   ]
  },
  {
   "cell_type": "code",
   "execution_count": 166,
   "metadata": {},
   "outputs": [
    {
     "name": "stdout",
     "output_type": "stream",
     "text": [
      "loaded image urls for 1570060 uinque fsns\n"
     ]
    }
   ],
   "source": [
    "print(\"loaded image urls for {} uinque fsns\".format(len(all_fsn_images.fsn.unique())))"
   ]
  },
  {
   "cell_type": "code",
   "execution_count": null,
   "metadata": {},
   "outputs": [],
   "source": [
    "# image url is like:\n",
    "# https://rukminim1.flixcart.com/image/@widht/@height/jd0jtzk0/t-shirt/g/m/z/s-tblgrvneckd03-tripr-original-imaffzs8pf9r4gfj.jpeg?q=@quality"
   ]
  },
  {
   "cell_type": "code",
   "execution_count": 68,
   "metadata": {},
   "outputs": [],
   "source": [
    "def get_dynamic_url(static_url):\n",
    "    static_url=\"/\".join(static_url.split('/')[2:])\n",
    "    HOST=\"http://rukminim1.flixcart.com/image\"\n",
    "    return \"{0}/@width/@height/{1}?q=@quality\".format(HOST, static_url)\n",
    "\n",
    "# dynamic_url=get_dynamic_url(df.iloc[0].url)\n",
    "def get_res_image(url, width, height, quality=100, is_static=False):\n",
    "    if is_static:\n",
    "        url=get_dynamic_url(url)\n",
    "    return url.replace('@width', str(width)).replace('@height', str(height)).replace(\"@quality\", str(quality))\n",
    "# get_res_image(df.iloc[0].url, 100,100, is_static=True)"
   ]
  },
  {
   "cell_type": "code",
   "execution_count": 167,
   "metadata": {},
   "outputs": [],
   "source": [
    "df=pd.read_pickle('/mnt/data/akshit.jain/user_clicks/data_df.pk')"
   ]
  },
  {
   "cell_type": "code",
   "execution_count": 168,
   "metadata": {},
   "outputs": [],
   "source": [
    "fsns=pd.Series(df.fsn.unique()).to_frame('fsn')"
   ]
  },
  {
   "cell_type": "code",
   "execution_count": 169,
   "metadata": {},
   "outputs": [],
   "source": [
    "fsn_image=pd.merge(all_fsn_images, fsns, how='inner', on='fsn')\n",
    "fsn_image['dynamic_url']=fsn_image.url.apply(get_dynamic_url)"
   ]
  },
  {
   "cell_type": "code",
   "execution_count": 170,
   "metadata": {},
   "outputs": [
    {
     "name": "stdout",
     "output_type": "stream",
     "text": [
      "filtered and got images for 23446 fsns out of 23446\n"
     ]
    }
   ],
   "source": [
    "print(\"filtered and got images for {} fsns out of {}\".format(fsn_image.fsn.unique().shape[0], fsns.fsn.unique().shape[0]))"
   ]
  },
  {
   "cell_type": "code",
   "execution_count": 179,
   "metadata": {},
   "outputs": [],
   "source": [
    "fsn_image.to_pickle('tshirt_image_urls_all.pk')"
   ]
  },
  {
   "cell_type": "code",
   "execution_count": 100,
   "metadata": {},
   "outputs": [],
   "source": [
    "unavail_fsns = frozenset(fsns.fsn) - frozenset(all_fsn_images.fsn)\n",
    "len(unavail_fsns)\n",
    "list(set(fsns.fsn.unique()) - set(fsn_image.fsn.unique()))[:10]"
   ]
  },
  {
   "cell_type": "code",
   "execution_count": 32,
   "metadata": {},
   "outputs": [
    {
     "data": {
      "text/html": [
       "<div>\n",
       "<style scoped>\n",
       "    .dataframe tbody tr th:only-of-type {\n",
       "        vertical-align: middle;\n",
       "    }\n",
       "\n",
       "    .dataframe tbody tr th {\n",
       "        vertical-align: top;\n",
       "    }\n",
       "\n",
       "    .dataframe thead th {\n",
       "        text-align: right;\n",
       "    }\n",
       "</style>\n",
       "<table border=\"1\" class=\"dataframe\">\n",
       "  <thead>\n",
       "    <tr style=\"text-align: right;\">\n",
       "      <th></th>\n",
       "      <th>fsn</th>\n",
       "      <th>url</th>\n",
       "      <th>dynamic_url</th>\n",
       "    </tr>\n",
       "  </thead>\n",
       "  <tbody>\n",
       "    <tr>\n",
       "      <th>0</th>\n",
       "      <td>SHTEG8485W9MZHWC</td>\n",
       "      <td>/image/top/s/q/g/161aswthtpnys05-whmt-american...</td>\n",
       "      <td>http://rukminim1.flixcart.com/image/@width/@he...</td>\n",
       "    </tr>\n",
       "    <tr>\n",
       "      <th>1</th>\n",
       "      <td>SHTEGDSGFWF5B3BW</td>\n",
       "      <td>/image/jingcy80/bra/a/v/t/32b-sfh045-w-swanij-...</td>\n",
       "      <td>http://rukminim1.flixcart.com/image/@width/@he...</td>\n",
       "    </tr>\n",
       "    <tr>\n",
       "      <th>2</th>\n",
       "      <td>SHTEGDSGFWF5B3BW</td>\n",
       "      <td>/image/t-shirt/u/8/n/152orwthntsh42-brwh-ameri...</td>\n",
       "      <td>http://rukminim1.flixcart.com/image/@width/@he...</td>\n",
       "    </tr>\n",
       "    <tr>\n",
       "      <th>3</th>\n",
       "      <td>SHTEGE2HNHQVHPYC</td>\n",
       "      <td>/image/jixgfww0/bra/g/v/d/32a-sfh034-bk-swanij...</td>\n",
       "      <td>http://rukminim1.flixcart.com/image/@width/@he...</td>\n",
       "    </tr>\n",
       "    <tr>\n",
       "      <th>4</th>\n",
       "      <td>SHTEGE2HNHQVHPYC</td>\n",
       "      <td>/image/j2w6jrk0/kurti/g/6/f/l-wokebobaaa000217...</td>\n",
       "      <td>http://rukminim1.flixcart.com/image/@width/@he...</td>\n",
       "    </tr>\n",
       "  </tbody>\n",
       "</table>\n",
       "</div>"
      ],
      "text/plain": [
       "                fsn                                                url  \\\n",
       "0  SHTEG8485W9MZHWC  /image/top/s/q/g/161aswthtpnys05-whmt-american...   \n",
       "1  SHTEGDSGFWF5B3BW  /image/jingcy80/bra/a/v/t/32b-sfh045-w-swanij-...   \n",
       "2  SHTEGDSGFWF5B3BW  /image/t-shirt/u/8/n/152orwthntsh42-brwh-ameri...   \n",
       "3  SHTEGE2HNHQVHPYC  /image/jixgfww0/bra/g/v/d/32a-sfh034-bk-swanij...   \n",
       "4  SHTEGE2HNHQVHPYC  /image/j2w6jrk0/kurti/g/6/f/l-wokebobaaa000217...   \n",
       "\n",
       "                                         dynamic_url  \n",
       "0  http://rukminim1.flixcart.com/image/@width/@he...  \n",
       "1  http://rukminim1.flixcart.com/image/@width/@he...  \n",
       "2  http://rukminim1.flixcart.com/image/@width/@he...  \n",
       "3  http://rukminim1.flixcart.com/image/@width/@he...  \n",
       "4  http://rukminim1.flixcart.com/image/@width/@he...  "
      ]
     },
     "execution_count": 32,
     "metadata": {},
     "output_type": "execute_result"
    }
   ],
   "source": [
    "fsn_image.head()"
   ]
  },
  {
   "cell_type": "markdown",
   "metadata": {},
   "source": [
    "### Async downlaod shell way"
   ]
  },
  {
   "cell_type": "code",
   "execution_count": 54,
   "metadata": {},
   "outputs": [],
   "source": [
    "! mkdir product_images"
   ]
  },
  {
   "cell_type": "code",
   "execution_count": 173,
   "metadata": {},
   "outputs": [],
   "source": [
    "import urllib\n",
    "import subprocess as sp\n",
    "import os.path as osp\n",
    "# max width x height supported on tf hub modules are 224-331 so we will go with 300 for now\n",
    "IMAGE_DIM=300\n",
    "\n",
    "data_dir='product_images'\n",
    "\n",
    "def batch_download(fsns):\n",
    "    print(\"downloading batch: {}\".format(fsns.name))\n",
    "    def image_download(fsn, dynamic_url):\n",
    "        img_uri=get_res_image(dynamic_url, IMAGE_DIM, IMAGE_DIM)# fsn_info['image']['url'].replace('{@width}', str(IMAGE_DIM)).replace('{@height}', str(IMAGE_DIM)).replace('{@quality}', str(100))\n",
    "        dump_file=osp.join(data_dir,'{}.jpg'.format(fsn))\n",
    "        if osp.exists(dump_file):\n",
    "            #print('skipping {}'.format(fsn))\n",
    "            return\n",
    "        # todo: download if not exists\n",
    "        cmd=\"curl -o {0} '{1}' &\".format(dump_file, img_uri)\n",
    "        sp.call(cmd, shell=True)\n",
    "    fsns.apply(lambda x: image_download(x.fsn, x.dynamic_url), axis=1)"
   ]
  },
  {
   "cell_type": "code",
   "execution_count": 174,
   "metadata": {},
   "outputs": [
    {
     "name": "stdout",
     "output_type": "stream",
     "text": [
      "total batches: (242,)\n",
      "downloading batch: 0\n",
      "downloading batch: 0\n",
      "downloading batch: 1\n",
      "downloading batch: 2\n",
      "downloading batch: 3\n",
      "downloading batch: 4\n",
      "downloading batch: 5\n",
      "downloading batch: 6\n",
      "downloading batch: 7\n",
      "downloading batch: 8\n",
      "downloading batch: 9\n",
      "downloading batch: 10\n",
      "downloading batch: 11\n",
      "downloading batch: 12\n",
      "downloading batch: 13\n",
      "downloading batch: 14\n",
      "downloading batch: 15\n",
      "downloading batch: 16\n",
      "downloading batch: 17\n",
      "downloading batch: 18\n",
      "downloading batch: 19\n",
      "downloading batch: 20\n",
      "downloading batch: 21\n",
      "downloading batch: 22\n",
      "downloading batch: 23\n",
      "downloading batch: 24\n",
      "downloading batch: 25\n",
      "downloading batch: 26\n",
      "downloading batch: 27\n",
      "downloading batch: 28\n",
      "downloading batch: 29\n",
      "downloading batch: 30\n",
      "downloading batch: 31\n",
      "downloading batch: 32\n",
      "downloading batch: 33\n",
      "downloading batch: 34\n",
      "downloading batch: 35\n",
      "downloading batch: 36\n",
      "downloading batch: 37\n",
      "downloading batch: 38\n",
      "downloading batch: 39\n",
      "downloading batch: 40\n",
      "downloading batch: 41\n",
      "downloading batch: 42\n",
      "downloading batch: 43\n",
      "downloading batch: 44\n",
      "downloading batch: 45\n",
      "downloading batch: 46\n",
      "downloading batch: 47\n",
      "downloading batch: 48\n",
      "downloading batch: 49\n",
      "downloading batch: 50\n",
      "downloading batch: 51\n",
      "downloading batch: 52\n",
      "downloading batch: 53\n",
      "downloading batch: 54\n",
      "downloading batch: 55\n",
      "downloading batch: 56\n",
      "downloading batch: 57\n",
      "downloading batch: 58\n",
      "downloading batch: 59\n",
      "downloading batch: 60\n",
      "downloading batch: 61\n",
      "downloading batch: 62\n",
      "downloading batch: 63\n",
      "downloading batch: 64\n",
      "downloading batch: 65\n",
      "downloading batch: 66\n",
      "downloading batch: 67\n",
      "downloading batch: 68\n",
      "downloading batch: 69\n",
      "downloading batch: 70\n",
      "downloading batch: 71\n",
      "downloading batch: 72\n",
      "downloading batch: 73\n",
      "downloading batch: 74\n",
      "downloading batch: 75\n",
      "downloading batch: 76\n",
      "downloading batch: 77\n",
      "downloading batch: 78\n",
      "downloading batch: 79\n",
      "downloading batch: 80\n",
      "downloading batch: 81\n",
      "downloading batch: 82\n",
      "downloading batch: 83\n",
      "downloading batch: 84\n",
      "downloading batch: 85\n",
      "downloading batch: 86\n",
      "downloading batch: 87\n",
      "downloading batch: 88\n",
      "downloading batch: 89\n",
      "downloading batch: 90\n",
      "downloading batch: 91\n",
      "downloading batch: 92\n",
      "downloading batch: 93\n",
      "downloading batch: 94\n",
      "downloading batch: 95\n",
      "downloading batch: 96\n",
      "downloading batch: 97\n",
      "downloading batch: 98\n",
      "downloading batch: 99\n",
      "downloading batch: 100\n",
      "downloading batch: 101\n",
      "downloading batch: 102\n",
      "downloading batch: 103\n",
      "downloading batch: 104\n",
      "downloading batch: 105\n",
      "downloading batch: 106\n",
      "downloading batch: 107\n",
      "downloading batch: 108\n",
      "downloading batch: 109\n",
      "downloading batch: 110\n",
      "downloading batch: 111\n",
      "downloading batch: 112\n",
      "downloading batch: 113\n",
      "downloading batch: 114\n",
      "downloading batch: 115\n",
      "downloading batch: 116\n",
      "downloading batch: 117\n",
      "downloading batch: 118\n",
      "downloading batch: 119\n",
      "downloading batch: 120\n",
      "downloading batch: 121\n",
      "downloading batch: 122\n",
      "downloading batch: 123\n",
      "downloading batch: 124\n",
      "downloading batch: 125\n",
      "downloading batch: 126\n",
      "downloading batch: 127\n",
      "downloading batch: 128\n",
      "downloading batch: 129\n",
      "downloading batch: 130\n",
      "downloading batch: 131\n",
      "downloading batch: 132\n",
      "downloading batch: 133\n",
      "downloading batch: 134\n",
      "downloading batch: 135\n",
      "downloading batch: 136\n",
      "downloading batch: 137\n",
      "downloading batch: 138\n",
      "downloading batch: 139\n",
      "downloading batch: 140\n",
      "downloading batch: 141\n",
      "downloading batch: 142\n",
      "downloading batch: 143\n",
      "downloading batch: 144\n",
      "downloading batch: 145\n",
      "downloading batch: 146\n",
      "downloading batch: 147\n",
      "downloading batch: 148\n",
      "downloading batch: 149\n",
      "downloading batch: 150\n",
      "downloading batch: 151\n",
      "downloading batch: 152\n",
      "downloading batch: 153\n",
      "downloading batch: 154\n",
      "downloading batch: 155\n",
      "downloading batch: 156\n",
      "downloading batch: 157\n",
      "downloading batch: 158\n",
      "downloading batch: 159\n",
      "downloading batch: 160\n",
      "downloading batch: 161\n",
      "downloading batch: 162\n",
      "downloading batch: 163\n",
      "downloading batch: 164\n",
      "downloading batch: 165\n",
      "downloading batch: 166\n",
      "downloading batch: 167\n",
      "downloading batch: 168\n",
      "downloading batch: 169\n",
      "downloading batch: 170\n",
      "downloading batch: 171\n",
      "downloading batch: 172\n",
      "downloading batch: 173\n",
      "downloading batch: 174\n",
      "downloading batch: 175\n",
      "downloading batch: 176\n",
      "downloading batch: 177\n",
      "downloading batch: 178\n",
      "downloading batch: 179\n",
      "downloading batch: 180\n",
      "downloading batch: 181\n",
      "downloading batch: 182\n",
      "downloading batch: 183\n",
      "downloading batch: 184\n",
      "downloading batch: 185\n",
      "downloading batch: 186\n",
      "downloading batch: 187\n",
      "downloading batch: 188\n",
      "downloading batch: 189\n",
      "downloading batch: 190\n",
      "downloading batch: 191\n",
      "downloading batch: 192\n",
      "downloading batch: 193\n",
      "downloading batch: 194\n",
      "downloading batch: 195\n",
      "downloading batch: 196\n",
      "downloading batch: 197\n",
      "downloading batch: 198\n",
      "downloading batch: 199\n",
      "downloading batch: 200\n",
      "downloading batch: 201\n",
      "downloading batch: 202\n",
      "downloading batch: 203\n",
      "downloading batch: 204\n",
      "downloading batch: 205\n",
      "downloading batch: 206\n",
      "downloading batch: 207\n",
      "downloading batch: 208\n",
      "downloading batch: 209\n",
      "downloading batch: 210\n",
      "downloading batch: 211\n",
      "downloading batch: 212\n",
      "downloading batch: 213\n",
      "downloading batch: 214\n",
      "downloading batch: 215\n",
      "downloading batch: 216\n",
      "downloading batch: 217\n",
      "downloading batch: 218\n",
      "downloading batch: 219\n",
      "downloading batch: 220\n",
      "downloading batch: 221\n",
      "downloading batch: 222\n",
      "downloading batch: 223\n",
      "downloading batch: 224\n",
      "downloading batch: 225\n",
      "downloading batch: 226\n",
      "downloading batch: 227\n",
      "downloading batch: 228\n",
      "downloading batch: 229\n",
      "downloading batch: 230\n",
      "downloading batch: 231\n",
      "downloading batch: 232\n",
      "downloading batch: 233\n",
      "downloading batch: 234\n",
      "downloading batch: 235\n",
      "downloading batch: 236\n",
      "downloading batch: 237\n",
      "downloading batch: 238\n",
      "downloading batch: 239\n",
      "downloading batch: 240\n",
      "downloading batch: 241\n"
     ]
    },
    {
     "data": {
      "text/html": [
       "<div>\n",
       "<style scoped>\n",
       "    .dataframe tbody tr th:only-of-type {\n",
       "        vertical-align: middle;\n",
       "    }\n",
       "\n",
       "    .dataframe tbody tr th {\n",
       "        vertical-align: top;\n",
       "    }\n",
       "\n",
       "    .dataframe thead th {\n",
       "        text-align: right;\n",
       "    }\n",
       "</style>\n",
       "<table border=\"1\" class=\"dataframe\">\n",
       "  <thead>\n",
       "    <tr style=\"text-align: right;\">\n",
       "      <th></th>\n",
       "    </tr>\n",
       "  </thead>\n",
       "  <tbody>\n",
       "  </tbody>\n",
       "</table>\n",
       "</div>"
      ],
      "text/plain": [
       "Empty DataFrame\n",
       "Columns: []\n",
       "Index: []"
      ]
     },
     "execution_count": 174,
     "metadata": {},
     "output_type": "execute_result"
    }
   ],
   "source": [
    "BATCH_SIZE=100\n",
    "fsn_image['partition'] = fsn_image.index//BATCH_SIZE\n",
    "print(\"total batches: {}\".format(fsn_image.partition.unique().shape))\n",
    "fsn_image.groupby('partition').apply(batch_download)"
   ]
  },
  {
   "cell_type": "code",
   "execution_count": 175,
   "metadata": {},
   "outputs": [
    {
     "data": {
      "image/jpeg": "[encoded data removed]",
      "text/plain": [
       "<IPython.core.display.Image object>"
      ]
     },
     "execution_count": 175,
     "metadata": {},
     "output_type": "execute_result"
    }
   ],
   "source": [
    "from IPython.display import Image\n",
    "Image(filename =osp.join(data_dir,'{}.jpg'.format(fsn_image.fsn.iloc[0])))"
   ]
  },
  {
   "cell_type": "code",
   "execution_count": 176,
   "metadata": {},
   "outputs": [
    {
     "data": {
      "image/jpeg": "[encoded data removed]",
      "text/plain": [
       "<IPython.core.display.Image object>"
      ]
     },
     "execution_count": 176,
     "metadata": {},
     "output_type": "execute_result"
    }
   ],
   "source": [
    "Image(filename =osp.join(data_dir,'{}.jpg'.format('SHTF6NSUR8W5XZPS')))"
   ]
  },
  {
   "cell_type": "markdown",
   "metadata": {},
   "source": [
    "### Async download pure python way"
   ]
  },
  {
   "cell_type": "code",
   "execution_count": null,
   "metadata": {},
   "outputs": [],
   "source": [
    "import sys\n",
    "import os\n",
    "import urllib\n",
    "import threading\n",
    "from Queue import Queue\n",
    "\n",
    "class DownloadThread(threading.Thread):\n",
    "    def __init__(self, queue, destfolder):\n",
    "        super(DownloadThread, self).__init__()\n",
    "        self.queue = queue\n",
    "        self.destfolder = destfolder\n",
    "        self.daemon = True\n",
    "\n",
    "    def run(self):\n",
    "        while True:\n",
    "            url = self.queue.get()\n",
    "            try:\n",
    "                self.download_url(url)\n",
    "            except Exception,e:\n",
    "                print \"   Error: %s\"%e\n",
    "            self.queue.task_done()\n",
    "\n",
    "    def download_url(self, url):\n",
    "        # change it to a different way if you require\n",
    "        name = url.split('/')[-1]\n",
    "        dest = os.path.join(self.destfolder, name)\n",
    "        print \"[%s] Downloading %s -> %s\"%(self.ident, url, dest)\n",
    "        urllib.urlretrieve(url, dest)\n",
    "\n",
    "def download(urls, destfolder, numthreads=4):\n",
    "    queue = Queue()\n",
    "    for url in urls:\n",
    "        queue.put(url)\n",
    "\n",
    "    for i in range(numthreads):\n",
    "        t = DownloadThread(queue, destfolder)\n",
    "        t.start()\n",
    "\n",
    "    queue.join()\n",
    "\n",
    "if __name__ == \"__main__\":\n",
    "    download(sys.argv[1:], \"/tmp\")"
   ]
  },
  {
   "cell_type": "markdown",
   "metadata": {},
   "source": [
    "## get image urls from api"
   ]
  },
  {
   "cell_type": "code",
   "execution_count": 151,
   "metadata": {},
   "outputs": [],
   "source": [
    "import requests as R\n",
    "import json\n",
    "import itertools\n",
    "\n",
    "BATCH_SIZE=100\n",
    "\n",
    "def fetch_from_api(fsns):\n",
    "    uri=\"http://10.47.2.116:31100/views/product_base_info?entityIds={}\".format(','.join(fsns))\n",
    "    resp = R.get(uri)\n",
    "    return resp.json()\n",
    "\n",
    "def parse_product_info(resp):\n",
    "    fsn = resp['entityId']\n",
    "    resp = resp['view']\n",
    "    image_id = resp['primary_image_id']\n",
    "    image=[x for x in resp['product_images'] if x['id']==image_id][0]\n",
    "    return {'fsn':fsn,'url':image['url']}\n",
    "\n",
    "def parse_response(resp):\n",
    "    return [parse_product_info(x) for x in resp['entityViews']]\n",
    "\n",
    "def get_fsns_images(fsn_df):\n",
    "    print(\"batch: {}\".format(fsn_df.name))\n",
    "    try:\n",
    "        fsns = fsn_df.fsn.tolist()\n",
    "        resp = fetch_from_api(fsns)\n",
    "        return parse_response(resp)\n",
    "    except Exception:\n",
    "        print('failed!!!')\n",
    "        return []\n",
    "\n",
    "def batch_and_get_images(fsns):\n",
    "    fdf=pd.DataFrame(fsns, columns=['fsn'])\n",
    "    fdf['batch']=fdf.index//BATCH_SIZE\n",
    "    print(\"starting fetch for {} batches\".format(len(fdf.batch.unique())))\n",
    "    image_urls = fdf.groupby('batch').apply(get_fsns_images)\n",
    "    return pd.DataFrame(list(itertools.chain.from_iterable(image_urls.tolist())))\n"
   ]
  },
  {
   "cell_type": "code",
   "execution_count": 153,
   "metadata": {},
   "outputs": [
    {
     "name": "stdout",
     "output_type": "stream",
     "text": [
      "starting fetch for 123 batches\n",
      "batch: 0\n",
      "batch: 0\n",
      "batch: 1\n",
      "batch: 2\n",
      "batch: 3\n",
      "batch: 4\n",
      "batch: 5\n",
      "batch: 6\n",
      "batch: 7\n",
      "batch: 8\n",
      "batch: 9\n",
      "batch: 10\n",
      "batch: 11\n",
      "batch: 12\n",
      "batch: 13\n",
      "batch: 14\n",
      "batch: 15\n",
      "batch: 16\n",
      "batch: 17\n",
      "batch: 18\n",
      "batch: 19\n",
      "batch: 20\n",
      "batch: 21\n",
      "batch: 22\n",
      "batch: 23\n",
      "batch: 24\n",
      "batch: 25\n",
      "batch: 26\n",
      "batch: 27\n",
      "batch: 28\n",
      "batch: 29\n",
      "batch: 30\n",
      "batch: 31\n",
      "batch: 32\n",
      "batch: 33\n",
      "batch: 34\n",
      "batch: 35\n",
      "batch: 36\n",
      "batch: 37\n",
      "batch: 38\n",
      "batch: 39\n",
      "batch: 40\n",
      "batch: 41\n",
      "batch: 42\n",
      "batch: 43\n",
      "batch: 44\n",
      "batch: 45\n",
      "batch: 46\n",
      "batch: 47\n",
      "batch: 48\n",
      "batch: 49\n",
      "batch: 50\n",
      "batch: 51\n",
      "batch: 52\n",
      "batch: 53\n",
      "batch: 54\n",
      "batch: 55\n",
      "batch: 56\n",
      "batch: 57\n",
      "batch: 58\n",
      "batch: 59\n",
      "batch: 60\n",
      "batch: 61\n",
      "batch: 62\n",
      "batch: 63\n",
      "batch: 64\n",
      "batch: 65\n",
      "batch: 66\n",
      "batch: 67\n",
      "batch: 68\n",
      "batch: 69\n",
      "batch: 70\n",
      "batch: 71\n",
      "batch: 72\n",
      "batch: 73\n",
      "batch: 74\n",
      "batch: 75\n",
      "batch: 76\n",
      "batch: 77\n",
      "batch: 78\n",
      "batch: 79\n",
      "batch: 80\n",
      "batch: 81\n",
      "batch: 82\n",
      "batch: 83\n",
      "batch: 84\n",
      "batch: 85\n",
      "batch: 86\n",
      "batch: 87\n",
      "batch: 88\n",
      "batch: 89\n",
      "batch: 90\n",
      "batch: 91\n",
      "batch: 92\n",
      "batch: 93\n",
      "batch: 94\n",
      "batch: 95\n",
      "batch: 96\n",
      "batch: 97\n",
      "batch: 98\n",
      "batch: 99\n",
      "batch: 100\n",
      "batch: 101\n",
      "batch: 102\n",
      "batch: 103\n",
      "batch: 104\n",
      "batch: 105\n",
      "batch: 106\n",
      "batch: 107\n",
      "batch: 108\n",
      "batch: 109\n",
      "batch: 110\n",
      "batch: 111\n",
      "batch: 112\n",
      "batch: 113\n",
      "batch: 114\n",
      "batch: 115\n",
      "batch: 116\n",
      "batch: 117\n",
      "batch: 118\n",
      "batch: 119\n",
      "batch: 120\n",
      "batch: 121\n",
      "batch: 122\n"
     ]
    }
   ],
   "source": [
    "unavail_fsns = list(unavail_fsns)\n",
    "fsn_images=batch_and_get_images(unavail_fsns)"
   ]
  },
  {
   "cell_type": "code",
   "execution_count": 155,
   "metadata": {},
   "outputs": [],
   "source": [
    "fsn_images.to_pickle('fsn_images_from_api.pk')"
   ]
  },
  {
   "cell_type": "code",
   "execution_count": 160,
   "metadata": {},
   "outputs": [],
   "source": [
    "fsn_images['url']=fsn_images.url.apply(lambda x: x.replace('http://img.fkcdn.com',''))"
   ]
  },
  {
   "cell_type": "code",
   "execution_count": 162,
   "metadata": {},
   "outputs": [],
   "source": [
    "missing_fsn_images=fsn_images"
   ]
  },
  {
   "cell_type": "code",
   "execution_count": 156,
   "metadata": {},
   "outputs": [
    {
     "name": "stdout",
     "output_type": "stream",
     "text": [
      "bpr-model   ctrsr_datasets\tctrsr_datasets.zip\tproduct_images\r\n",
      "checkpoint  ctrsr_datasets.rar\tfsn_images_from_api.pk\ttshirt_image_urls.tsv\r\n"
     ]
    }
   ],
   "source": [
    "! ls"
   ]
  }
 ],
 "metadata": {
  "kernelspec": {
   "display_name": "Python 3",
   "language": "python",
   "name": "python3"
  },
  "language_info": {
   "codemirror_mode": {
    "name": "ipython",
    "version": 3
   },
   "file_extension": ".py",
   "mimetype": "text/x-python",
   "name": "python",
   "nbconvert_exporter": "python",
   "pygments_lexer": "ipython3",
   "version": "3.5.2"
  }
 },
 "nbformat": 4,
 "nbformat_minor": 2
}
